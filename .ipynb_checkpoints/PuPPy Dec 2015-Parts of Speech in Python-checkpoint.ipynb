{
 "cells": [
  {
   "cell_type": "markdown",
   "metadata": {},
   "source": [
    "```\n",
    "First, let's analyze some text...\n",
    "\n",
    "\n",
    "\n",
    "\n",
    "\n",
    "\n",
    "\n",
    "\n",
    "\n",
    "\n",
    "\n",
    "\n",
    "\n",
    "\n",
    "\n",
    "\n",
    "\n",
    "\n",
    "\n",
    "\n",
    "\n",
    "\n",
    "\n",
    "\n",
    "\n",
    "\n",
    "\n",
    "\n",
    "\n",
    "\n",
    "\n",
    "\n",
    "\n",
    "\n",
    "\n",
    "...\n",
    "```"
   ]
  },
  {
   "cell_type": "markdown",
   "metadata": {},
   "source": [
    "# “Each of us is full of shit in our own special way. We are all shitty little snowflakes dancing in the universe.” \n",
    "― Lewis Black, Me of Little Faith"
   ]
  },
  {
   "cell_type": "markdown",
   "metadata": {},
   "source": [
    "<img src=\"files/don.png\">"
   ]
  },
  {
   "cell_type": "markdown",
   "metadata": {},
   "source": [
    "# Alice's Case"
   ]
  },
  {
   "cell_type": "markdown",
   "metadata": {},
   "source": [
    "<img src=\"files/plus.png\" width=\"60%\">"
   ]
  },
  {
   "cell_type": "markdown",
   "metadata": {},
   "source": [
    "# Overview of Taggers/Parsers "
   ]
  },
  {
   "cell_type": "markdown",
   "metadata": {},
   "source": [
    "\n",
    "Tagging and Parsing into Trees is different:\n",
    "\n",
    "* Tagging: Tagging every word [fast]\n",
    "* Parsing: Tagging and puts into Tree [slow]\n",
    "* Chunking: Gives pieces of Trees [medium]\n",
    "* POSH Rules:  *Special* fact and deap and context aware [amazing]\n",
    "\n",
    "Other important *words*:\n",
    "\n",
    "* Probabilistic Parsing\n",
    "* Chart Parsing\n",
    "    * Grammer\n",
    "    * Strategy\n",
    "\n",
    "*NLTK is the mother of all mother of NLP*\n",
    "\n",
    "so many parsers:\n",
    "\n",
    "* pyStatParser (python yay!, little slow, but fun)\n",
    "* Stanford (popular) and btw, online! => http://nlp.stanford.edu:8080/parser/\n",
    "* TextBlob (python yay! NLTK simplification)\n",
    "* clips Pattern (python yay!)\n",
    "* MaltParser (java 1.8)\n",
    "* spaCy (pyython yay!)"
   ]
  },
  {
   "cell_type": "markdown",
   "metadata": {},
   "source": [
    "# Example Parsers/Taggers "
   ]
  },
  {
   "cell_type": "code",
   "execution_count": 1,
   "metadata": {
    "collapsed": true
   },
   "outputs": [],
   "source": [
    "sent = \"Each of us is full of shit in our own special way\"\n",
    "\n",
    "# setup display for demo\n",
    "%matplotlib inline\n",
    "import os\n",
    "os.environ['DISPLAY'] = 'localhost:1'"
   ]
  },
  {
   "cell_type": "markdown",
   "metadata": {},
   "source": [
    "## pyStatParser"
   ]
  },
  {
   "cell_type": "code",
   "execution_count": 2,
   "metadata": {
    "collapsed": false
   },
   "outputs": [
    {
     "data": {
      "image/png": "[encoded data removed]",
      "text/plain": [
       "Tree('SQ+VP+VP', [Tree('NP', [Tree('NP', [Tree('DT', ['each'])]), Tree('SBAR', [Tree('IN', ['of']), Tree('S', [Tree('NP', [Tree('PRP', ['us'])]), Tree('VP', [Tree('VBZ', ['is']), Tree('ADJP', [Tree('JJ', ['full']), Tree('PP', [Tree('IN', ['of']), Tree('NP', [Tree('NN', ['shit'])])])])])])])]), Tree('PP', [Tree('IN', ['in']), Tree('NP', [Tree('PRP$', ['our']), Tree('JJ', ['own']), Tree('JJ', ['special']), Tree('NN', ['way'])])])])"
      ]
     },
     "execution_count": 2,
     "metadata": {},
     "output_type": "execute_result"
    }
   ],
   "source": [
    "from stat_parser import Parser\n",
    "parser = Parser()\n",
    "parser.parse(sent)\n",
    "tree = parser.parse(sent) # returns nltk Tree instance\n",
    "tree"
   ]
  },
  {
   "cell_type": "markdown",
   "metadata": {},
   "source": [
    "## TextBlob"
   ]
  },
  {
   "cell_type": "code",
   "execution_count": 3,
   "metadata": {
    "collapsed": false
   },
   "outputs": [
    {
     "data": {
      "text/plain": [
       "u'Each/DT/O/O of/IN/B-PP/B-PNP us/PRP/B-NP/I-PNP is/VBZ/B-VP/O full/JJ/B-ADJP/O of/IN/B-PP/B-PNP shit/NN/B-NP/I-PNP in/IN/B-PP/B-PNP our/PRP$/B-NP/I-PNP own/JJ/I-NP/I-PNP special/JJ/I-NP/I-PNP way/NN/I-NP/I-PNP'"
      ]
     },
     "execution_count": 3,
     "metadata": {},
     "output_type": "execute_result"
    }
   ],
   "source": [
    "from textblob import TextBlob\n",
    "blob = TextBlob(sent)\n",
    "blob.parse()"
   ]
  },
  {
   "cell_type": "markdown",
   "metadata": {},
   "source": [
    "## MaltParser "
   ]
  },
  {
   "cell_type": "code",
   "execution_count": 4,
   "metadata": {
    "collapsed": false
   },
   "outputs": [
    {
     "data": {
      "image/png": "[encoded data removed]",
      "text/plain": [
       "Tree('shit', ['Each', 'of', 'us', 'is', 'full', 'of', Tree('in', [Tree('way', ['our', 'own', 'special'])])])"
      ]
     },
     "execution_count": 4,
     "metadata": {},
     "output_type": "execute_result"
    }
   ],
   "source": [
    "import nltk\n",
    "mp = nltk.parse.malt.MaltParser(os.getcwd(),\n",
    "                                model_filename=\"engmalt.linear-1.7.mco\")\n",
    "mp.parse_one(sent.split()).tree()"
   ]
  },
  {
   "cell_type": "markdown",
   "metadata": {},
   "source": [
    "## Pattern "
   ]
  },
  {
   "cell_type": "code",
   "execution_count": 5,
   "metadata": {
    "collapsed": false
   },
   "outputs": [
    {
     "name": "stdout",
     "output_type": "stream",
     "text": [
      "          WORD   TAG    CHUNK   ROLE   ID     PNP    LEMMA     \n",
      "                                                               \n",
      "          Each   DT     -       -      -      -      each      \n",
      "            of   IN     PP      -      -      PNP    of        \n",
      "            us   PRP    NP      SBJ    1      PNP    us        \n",
      "            is   VBZ    VP      -      1      -      be        \n",
      "          full   JJ     ADJP    -      -      -      full      \n",
      "            of   IN     PP      -      -      PNP    of        \n",
      "          shit   NN     NP      -      -      PNP    shit      \n",
      "            in   IN     PP      -      -      PNP    in        \n",
      "           our   PRP$   NP      -      -      PNP    our       \n",
      "           own   JJ     NP ^    -      -      PNP    own       \n",
      "       special   JJ     NP ^    -      -      PNP    special   \n",
      "           way   NN     NP ^    -      -      PNP    way       \n"
     ]
    }
   ],
   "source": [
    "from pattern.en import parse, pprint\n",
    "\n",
    "s = parse(sent,\n",
    "     tokenize = True,  # Tokenize the input, i.e. split punctuation from words.\n",
    "         tags = True,  # Find part-of-speech tags.\n",
    "       chunks = True,  # Find chunk tags, e.g. \"the black cat\" = NP = noun phrase.\n",
    "    relations = True,  # Find relations between chunks.\n",
    "      lemmata = True,  # Find word lemmata.\n",
    "        light = False) \n",
    "pprint(s)"
   ]
  },
  {
   "cell_type": "markdown",
   "metadata": {},
   "source": [
    "## spaCy "
   ]
  },
  {
   "cell_type": "code",
   "execution_count": 6,
   "metadata": {
    "collapsed": false
   },
   "outputs": [],
   "source": [
    "from spacy.en import English\n",
    "parser = English()\n",
    "parsedData = parser(unicode(sent))"
   ]
  },
  {
   "cell_type": "code",
   "execution_count": 7,
   "metadata": {
    "collapsed": false
   },
   "outputs": [
    {
     "name": "stdout",
     "output_type": "stream",
     "text": [
      "('original:', 4128, u'Each')\n",
      "('lowercased:', 801, u'each')\n",
      "('lemma:', 801, u'each')\n",
      "('shape:', 354710, u'Xxxx')\n",
      "('prefix:', 2848, u'E')\n",
      "('suffix:', 99462, u'ach')\n",
      "('log probability:', -10.98088550567627)\n",
      "('Brown cluster id:', 350)\n",
      "----------------------------------------\n",
      "('original:', 471, u'of')\n",
      "('lowercased:', 471, u'of')\n",
      "('lemma:', 471, u'of')\n",
      "('shape:', 21581, u'xx')\n",
      "('prefix:', 2491, u'o')\n",
      "('suffix:', 471, u'of')\n",
      "('log probability:', -4.27587366104126)\n",
      "('Brown cluster id:', 28)\n",
      "----------------------------------------\n",
      "('original:', 694, u'us')\n",
      "('lowercased:', 694, u'us')\n",
      "('lemma:', 1616, u'u')\n",
      "('shape:', 21581, u'xx')\n",
      "('prefix:', 1616, u'u')\n",
      "('suffix:', 694, u'us')\n",
      "('log probability:', -7.643693923950195)\n",
      "('Brown cluster id:', 1898)\n",
      "----------------------------------------\n"
     ]
    }
   ],
   "source": [
    "for i, token in enumerate(parsedData):\n",
    "    print(\"original:\", token.orth, token.orth_)\n",
    "    print(\"lowercased:\", token.lower, token.lower_)\n",
    "    print(\"lemma:\", token.lemma, token.lemma_)\n",
    "    print(\"shape:\", token.shape, token.shape_)\n",
    "    print(\"prefix:\", token.prefix, token.prefix_)\n",
    "    print(\"suffix:\", token.suffix, token.suffix_)\n",
    "    print(\"log probability:\", token.prob)\n",
    "    print(\"Brown cluster id:\", token.cluster)\n",
    "    print(\"----------------------------------------\")\n",
    "    if i > 1:\n",
    "        break"
   ]
  },
  {
   "cell_type": "markdown",
   "metadata": {},
   "source": [
    "<a href=\"https://api.spacy.io/displacy/index.html?full=Each of us is full of shit in our own special way. We are all shitty little snowflakes dancing in the universe.\" target=\"_new\">Interactive Example</a>"
   ]
  },
  {
   "cell_type": "markdown",
   "metadata": {
    "collapsed": true
   },
   "source": [
    "# Word Langauge Graph "
   ]
  },
  {
   "cell_type": "code",
   "execution_count": 8,
   "metadata": {
    "collapsed": false
   },
   "outputs": [
    {
     "data": {
      "text/html": [
       "<iframe id=\"igraph\" scrolling=\"no\" style=\"border:none;\"seamless=\"seamless\" src=\"https://plot.ly/~brianray/6.embed\" height=\"525px\" width=\"100%\"></iframe>"
      ],
      "text/plain": [
       "<plotly.tools.PlotlyDisplay object>"
      ]
     },
     "execution_count": 8,
     "metadata": {},
     "output_type": "execute_result"
    }
   ],
   "source": [
    "from visualize_word_graph import draw_graph  \n",
    "draw_graph(\"dog\")"
   ]
  },
  {
   "cell_type": "code",
   "execution_count": 9,
   "metadata": {
    "collapsed": false
   },
   "outputs": [
    {
     "data": {
      "text/html": [
       "<iframe id=\"igraph\" scrolling=\"no\" style=\"border:none;\"seamless=\"seamless\" src=\"https://plot.ly/~brianray/6.embed\" height=\"525px\" width=\"100%\"></iframe>"
      ],
      "text/plain": [
       "<plotly.tools.PlotlyDisplay object>"
      ]
     },
     "execution_count": 9,
     "metadata": {},
     "output_type": "execute_result"
    }
   ],
   "source": [
    "draw_graph(\"noise\", hypernym=True)"
   ]
  },
  {
   "cell_type": "markdown",
   "metadata": {},
   "source": [
    "#  Alice's Yelp Data"
   ]
  },
  {
   "cell_type": "code",
   "execution_count": 11,
   "metadata": {
    "collapsed": false
   },
   "outputs": [],
   "source": [
    "bad_sounds =['The sound in the place is terrible.',\n",
    "            'dining with clatter and the occasional smell of BMW exausts',\n",
    "            'Also, the acoustics are not conducive to having any sort of conversation.']\n",
    "not_bad_sounds = [\"not to sound like a snob\",\n",
    "                  \"at your table and you can tune the sound to whichever game you're interested in\",\n",
    "                  \"oh god I sound old!\"]"
   ]
  },
  {
   "cell_type": "markdown",
   "metadata": {},
   "source": [
    "## 1. parts of speach for each"
   ]
  },
  {
   "cell_type": "code",
   "execution_count": 12,
   "metadata": {
    "collapsed": false
   },
   "outputs": [
    {
     "name": "stdout",
     "output_type": "stream",
     "text": [
      "The sound in the place is terrible.\n",
      "          WORD   TAG    CHUNK   ROLE   ID     PNP    LEMMA      \n",
      "                                                                \n",
      "           The   DT     NP      -      -      -      the        \n",
      "         sound   NN     NP ^    -      -      -      sound      \n",
      "            in   IN     PP      -      -      PNP    in         \n",
      "           the   DT     NP      SBJ    1      PNP    the        \n",
      "         place   NN     NP ^    SBJ    1      PNP    place      \n",
      "            is   VBZ    VP      -      1      -      be         \n",
      "      terrible   JJ     ADJP    -      -      -      terrible   \n",
      "             .   .      -       -      -      -      .          \n",
      "dining with clatter and the occasional smell of BMW exausts\n",
      "          WORD   TAG       CHUNK   ROLE   ID     PNP    LEMMA        \n",
      "                                                                     \n",
      "        dining   VBG       VP      -      -      -      dine         \n",
      "          with   IN        PP      -      -      PNP    with         \n",
      "       clatter   NN        NP      -      -      PNP    clatter      \n",
      "           and   CC        NP ^    -      -      PNP    and          \n",
      "           the   DT        NP ^    -      -      PNP    the          \n",
      "    occasional   JJ        NP ^    -      -      PNP    occasional   \n",
      "         smell   NN        NP ^    -      -      PNP    smell        \n",
      "            of   IN        PP      -      -      PNP    of           \n",
      "           BMW   NNP-ORG   NP      SBJ    1      PNP    bmw          \n",
      "       exausts   VBZ       VP      -      1      -      exaust       \n",
      "Also, the acoustics are not conducive to having any sort of conversation.\n",
      "          WORD   TAG    CHUNK    ROLE   ID     PNP    LEMMA          \n",
      "                                                                     \n",
      "          Also   RB     ADVP     -      -      -      also           \n",
      "             ,   ,      -        -      -      -      ,              \n",
      "           the   DT     NP       SBJ    1      -      the            \n",
      "     acoustics   NNS    NP ^     SBJ    1      -      acoustic       \n",
      "           are   VBP    VP       -      1      -      be             \n",
      "           not   RB     ADJP     -      -      -      not            \n",
      "     conducive   JJ     ADJP ^   -      -      -      conducive      \n",
      "            to   TO     VP       -      2      -      to             \n",
      "        having   VBG    VP ^     -      2      -      have           \n",
      "           any   DT     NP       OBJ    2      -      any            \n",
      "          sort   NN     NP ^     OBJ    2      -      sort           \n",
      "            of   IN     PP       -      -      PNP    of             \n",
      "  conversation   NN     NP       -      -      PNP    conversation   \n",
      "             .   .      -        -      -      -      .              \n",
      "not to sound like a snob\n",
      "          WORD   TAG    CHUNK   ROLE   ID     PNP    LEMMA   \n",
      "                                                             \n",
      "           not   RB     VP      -      -      -      not     \n",
      "            to   TO     VP ^    -      -      -      to      \n",
      "         sound   VB     VP ^    -      -      -      sound   \n",
      "          like   IN     PP      -      -      PNP    like    \n",
      "             a   DT     NP      -      -      PNP    a       \n",
      "          snob   NN     NP ^    -      -      PNP    snob    \n",
      "at your table and you can tune the sound to whichever game you're interested in\n",
      "          WORD   TAG    CHUNK   ROLE   ID     PNP    LEMMA        \n",
      "                                                                  \n",
      "            at   IN     PP      -      -      PNP    at           \n",
      "          your   PRP$   NP      SBJ    1      PNP    your         \n",
      "         table   NN     NP ^    SBJ    1      PNP    table        \n",
      "           and   CC     NP ^    SBJ    1      PNP    and          \n",
      "           you   PRP    NP ^    SBJ    1      PNP    you          \n",
      "           can   MD     VP      -      1      -      can          \n",
      "          tune   VB     VP ^    -      1      -      tune         \n",
      "           the   DT     -       -      -      -      the          \n",
      "         sound   JJ     ADJP    -      -      -      sound        \n",
      "            to   TO     -       -      -      -      to           \n",
      "     whichever   WDT    NP      SBJ    2      -      whichever    \n",
      "          game   NN     NP ^    SBJ    2      -      game         \n",
      "           you   PRP    NP ^    SBJ    2      -      you          \n",
      "           're   VBP    VP      -      2      -      be           \n",
      "    interested   JJ     ADJP    -      -      -      interested   \n",
      "            in   IN     PP      -      -      -      in           \n",
      "oh god I sound old!\n",
      "          WORD   TAG    CHUNK   ROLE   ID     PNP    LEMMA   \n",
      "                                                             \n",
      "            oh   UH     -       -      -      -      oh      \n",
      "           god   NN     NP      SBJ    1      -      god     \n",
      "             I   PRP    NP ^    SBJ    1      -      i       \n",
      "         sound   VBP    VP      -      1      -      sound   \n",
      "           old   JJ     ADJP    -      -      -      old     \n",
      "             !   .      -       -      -      -      !       \n"
     ]
    }
   ],
   "source": [
    "from pattern.en import parse, pprint\n",
    "\n",
    "def print_parts(sents):\n",
    "    for sent in sents:\n",
    "        s = parse(sent,\n",
    "             tokenize = True,  # Tokenize the input, i.e. split punctuation from words.\n",
    "                 tags = True,  # Find part-of-speech tags.\n",
    "               chunks = True,  # Find chunk tags, e.g. \"the black cat\" = NP = noun phrase.\n",
    "            relations = True,  # Find relations between chunks.\n",
    "              lemmata = True,  # Find word lemmata.\n",
    "                light = False) \n",
    "        print sent\n",
    "        pprint(s)\n",
    "sents = bad_sounds + not_bad_sounds\n",
    "print_parts(bad_sounds + not_bad_sounds)"
   ]
  },
  {
   "cell_type": "markdown",
   "metadata": {},
   "source": [
    "Penn Treebank Project Chunks <a href=\"tagguide.pdf\">guide</a>\n",
    "\n",
    "#### parts\n",
    "\n",
    "<table class=\"border\">\n",
    "<tbody>\n",
    "<tr>\n",
    "<td><span class=\"smallcaps\">Tag </span></td>\n",
    "<td><span class=\"smallcaps\">Description </span></td>\n",
    "<td class=\"smallcaps\">Example</td>\n",
    "</tr>\n",
    "<tr>\n",
    "<td><span class=\"postag\">CC </span></td>\n",
    "<td>conjunction, coordinating</td>\n",
    "<td><em>and, or, but</em></td>\n",
    "</tr>\n",
    "<tr>\n",
    "<td><span class=\"postag\">CD </span></td>\n",
    "<td>cardinal number</td>\n",
    "<td><em>five, three, 13%</em></td>\n",
    "</tr>\n",
    "<tr>\n",
    "<td><span class=\"postag\">DT </span></td>\n",
    "<td>determiner</td>\n",
    "<td><em>the, a, these <br></em></td>\n",
    "</tr>\n",
    "<tr>\n",
    "<td><span class=\"postag\">EX </span></td>\n",
    "<td>existential there</td>\n",
    "<td><em><span style=\"text-decoration: underline;\">there</span> were six boys <br></em></td>\n",
    "</tr>\n",
    "<tr>\n",
    "<td><span class=\"postag\">FW </span></td>\n",
    "<td>foreign word</td>\n",
    "<td><em>mais <br></em></td>\n",
    "</tr>\n",
    "<tr>\n",
    "<td><span class=\"postag\">IN </span></td>\n",
    "<td>conjunction, subordinating or preposition</td>\n",
    "<td><em>of, on, before, unless <br></em></td>\n",
    "</tr>\n",
    "<tr>\n",
    "<td><span class=\"postag\">JJ </span></td>\n",
    "<td>adjective</td>\n",
    "<td><em>nice, easy </em></td>\n",
    "</tr>\n",
    "<tr>\n",
    "<td><span class=\"postag\">JJR </span></td>\n",
    "<td>adjective, comparative</td>\n",
    "<td><em>nicer, easier</em></td>\n",
    "</tr>\n",
    "<tr>\n",
    "<td><span class=\"postag\">JJS </span></td>\n",
    "<td>adjective, superlative</td>\n",
    "<td><em>nicest, easiest <br></em></td>\n",
    "</tr>\n",
    "<tr>\n",
    "<td><span class=\"postag\">LS </span></td>\n",
    "<td>list item marker</td>\n",
    "<td><em>&nbsp;</em></td>\n",
    "</tr>\n",
    "<tr>\n",
    "<td><span class=\"postag\">MD </span></td>\n",
    "<td>verb, modal auxillary</td>\n",
    "<td><em>may, should <br></em></td>\n",
    "</tr>\n",
    "<tr>\n",
    "<td><span class=\"postag\">NN </span></td>\n",
    "<td>noun, singular or mass</td>\n",
    "<td><em>tiger, chair, laughter <br></em></td>\n",
    "</tr>\n",
    "<tr>\n",
    "<td><span class=\"postag\">NNS </span></td>\n",
    "<td>noun, plural</td>\n",
    "<td><em>tigers, chairs, insects <br></em></td>\n",
    "</tr>\n",
    "<tr>\n",
    "<td><span class=\"postag\">NNP </span></td>\n",
    "<td>noun, proper singular</td>\n",
    "<td><em>Germany, God, Alice <br></em></td>\n",
    "</tr>\n",
    "<tr>\n",
    "<td><span class=\"postag\">NNPS </span></td>\n",
    "<td>noun, proper plural</td>\n",
    "<td><em>we met two <span style=\"text-decoration: underline;\">Christmases</span> ago <br></em></td>\n",
    "</tr>\n",
    "<tr>\n",
    "<td><span class=\"postag\">PDT </span></td>\n",
    "<td>predeterminer</td>\n",
    "<td><em><span style=\"text-decoration: underline;\">both</span> his children <br></em></td>\n",
    "</tr>\n",
    "<tr>\n",
    "<td><span class=\"postag\">POS</span></td>\n",
    "<td>possessive ending</td>\n",
    "<td><em>'s</em></td>\n",
    "</tr>\n",
    "<tr>\n",
    "<td><span class=\"postag\">PRP </span></td>\n",
    "<td>pronoun, personal</td>\n",
    "<td><em>me, you, it <br></em></td>\n",
    "</tr>\n",
    "<tr>\n",
    "<td><span class=\"postag\">PRP&#36; </span></td>\n",
    "<td>pronoun, possessive</td>\n",
    "<td><em>my, your, our <br></em></td>\n",
    "</tr>\n",
    "<tr>\n",
    "<td><span class=\"postag\">RB </span></td>\n",
    "<td>adverb</td>\n",
    "<td><em>extremely, loudly, hard&nbsp; <br></em></td>\n",
    "</tr>\n",
    "<tr>\n",
    "<td><span class=\"postag\">RBR </span></td>\n",
    "<td>adverb, comparative</td>\n",
    "<td><em>better <br></em></td>\n",
    "</tr>\n",
    "<tr>\n",
    "<td><span class=\"postag\">RBS </span></td>\n",
    "<td>adverb, superlative</td>\n",
    "<td><em>best <br></em></td>\n",
    "</tr>\n",
    "<tr>\n",
    "<td><span class=\"postag\">RP </span></td>\n",
    "<td>adverb, particle</td>\n",
    "<td><em>about, off, up <br></em></td>\n",
    "</tr>\n",
    "<tr>\n",
    "<td><span class=\"postag\">SYM </span></td>\n",
    "<td>symbol</td>\n",
    "<td><em>&#37; <br></em></td>\n",
    "</tr>\n",
    "<tr>\n",
    "<td><span class=\"postag\">TO </span></td>\n",
    "<td>infinitival to</td>\n",
    "<td><em>what <span style=\"text-decoration: underline;\">to</span> do? <br></em></td>\n",
    "</tr>\n",
    "<tr>\n",
    "<td><span class=\"postag\">UH </span></td>\n",
    "<td>interjection</td>\n",
    "<td><em>oh, oops, gosh <br></em></td>\n",
    "</tr>\n",
    "<tr>\n",
    "<td><span class=\"postag\">VB </span></td>\n",
    "<td>verb, base form</td>\n",
    "<td><em>think <br></em></td>\n",
    "</tr>\n",
    "<tr>\n",
    "<td><span class=\"postag\">VBZ </span></td>\n",
    "<td>verb, 3rd person singular present</td>\n",
    "<td><em>she <span style=\"text-decoration: underline;\">thinks </span><br></em></td>\n",
    "</tr>\n",
    "<tr>\n",
    "<td><span class=\"postag\">VBP </span></td>\n",
    "<td>verb, non-3rd person singular present</td>\n",
    "<td><em>I <span style=\"text-decoration: underline;\">think </span><br></em></td>\n",
    "</tr>\n",
    "<tr>\n",
    "<td><span class=\"postag\">VBD </span></td>\n",
    "<td>verb, past tense</td>\n",
    "<td><em>they <span style=\"text-decoration: underline;\">thought </span><br></em></td>\n",
    "</tr>\n",
    "<tr>\n",
    "<td><span class=\"postag\">VBN </span></td>\n",
    "<td>verb, past participle</td>\n",
    "<td><em>a <span style=\"text-decoration: underline;\">sunken</span> ship <br></em></td>\n",
    "</tr>\n",
    "<tr>\n",
    "<td><span class=\"postag\">VBG </span></td>\n",
    "<td>verb, gerund or present participle</td>\n",
    "<td><em><span style=\"text-decoration: underline;\">thinking</span> is fun <br></em></td>\n",
    "</tr>\n",
    "<tr>\n",
    "<td><span class=\"postag\">WDT </span></td>\n",
    "<td><em>wh</em>-determiner</td>\n",
    "<td><em>which, whatever, whichever <br></em></td>\n",
    "</tr>\n",
    "<tr>\n",
    "<td><span class=\"postag\">WP </span></td>\n",
    "<td><em>wh</em>-pronoun, personal</td>\n",
    "<td><em>what, who, whom <br></em></td>\n",
    "</tr>\n",
    "<tr>\n",
    "<td><span class=\"postag\">WP$$</span></td>\n",
    "<td><em>wh</em>-pronoun, possessive</td>\n",
    "<td><em>whose, whosever <br></em></td>\n",
    "</tr>\n",
    "<tr>\n",
    "<td><span class=\"postag\">WRB</span></td>\n",
    "<td><em>wh</em>-adverb</td>\n",
    "<td><em>where, when <br></em></td>\n",
    "</tr>\n",
    "<tr>\n",
    "<td><span class=\"postag\">. </span></td>\n",
    "<td>punctuation mark, sentence closer</td>\n",
    "<td><em>.;?* <br></em></td>\n",
    "</tr>\n",
    "<tr>\n",
    "<td><span class=\"postag\">, </span></td>\n",
    "<td>punctuation mark, comma</td>\n",
    "<td><em>, <br></em></td>\n",
    "</tr>\n",
    "<tr>\n",
    "<td><span class=\"postag\">: </span></td>\n",
    "<td>punctuation mark, colon</td>\n",
    "<td><em>: <br></em></td>\n",
    "</tr>\n",
    "<tr>\n",
    "<td><span class=\"postag\">( </span></td>\n",
    "<td>contextual separator, left paren</td>\n",
    "<td><em>( <br></em></td>\n",
    "</tr>\n",
    "<tr>\n",
    "<td><span class=\"postag\">) </span></td>\n",
    "<td>contextual separator, right paren</td>\n",
    "<td><em>) <br></em></td>\n",
    "</tr>\n",
    "</tbody>\n",
    "</table>\n",
    "\n",
    "#### chunks\n",
    "\n",
    "<table class=\"border\">\n",
    "<tbody>\n",
    "<tr>\n",
    "<td><span class=\"smallcaps\">Tag </span></td>\n",
    "<td><span class=\"smallcaps\">Description </span></td>\n",
    "<td><span class=\"smallcaps\">Words </span></td>\n",
    "<td><span class=\"smallcaps\">Example </span></td>\n",
    "<td align=\"right\">%</td>\n",
    "</tr>\n",
    "<tr>\n",
    "<td><span class=\"postag\">NP </span></td>\n",
    "<td>noun phrase<span class=\"postag\">&nbsp;</span></td>\n",
    "<td><span class=\"postag\">DT</span>+<span class=\"postag\">RB</span>+<span class=\"postag\">JJ</span>+<span class=\"postag\">NN</span> + <span class=\"postag\">PR</span></td>\n",
    "<td><em>the strange bird</em></td>\n",
    "<td align=\"right\">&nbsp;51</td>\n",
    "</tr>\n",
    "<tr>\n",
    "<td><span class=\"postag\">PP </span></td>\n",
    "<td>prepositional phrase</td>\n",
    "<td><span class=\"postag\">TO</span>+<span class=\"postag\">IN </span></td>\n",
    "<td><em>in between</em></td>\n",
    "<td align=\"right\">&nbsp;19</td>\n",
    "</tr>\n",
    "<tr>\n",
    "<td><span class=\"postag\">VP&nbsp; </span></td>\n",
    "<td>verb phrase&nbsp;</td>\n",
    "<td><span class=\"postag\">RB</span>+<span class=\"postag\">MD</span>+<span class=\"postag\">VB&nbsp; </span></td>\n",
    "<td><em>was looking<br></em></td>\n",
    "<td align=\"right\">9</td>\n",
    "</tr>\n",
    "<tr>\n",
    "<td><span class=\"postag\">ADVP</span></td>\n",
    "<td>adverb phrase</td>\n",
    "<td><span class=\"postag\">RB</span></td>\n",
    "<td><em>also<br></em></td>\n",
    "<td align=\"right\">&nbsp;6</td>\n",
    "</tr>\n",
    "<tr>\n",
    "<td><span class=\"postag\">ADJP</span></td>\n",
    "<td>adjective phrase<span class=\"postag\">&nbsp;</span></td>\n",
    "<td><span class=\"postag\">CC</span>+<span class=\"postag\">RB</span>+<span class=\"postag\">JJ</span></td>\n",
    "<td><em>warm and cosy</em></td>\n",
    "<td align=\"right\">&nbsp;3</td>\n",
    "</tr>\n",
    "<tr>\n",
    "<td><span class=\"postag\">SBAR</span></td>\n",
    "<td>subordinating conjunction&nbsp;</td>\n",
    "<td><span class=\"postag\">IN</span></td>\n",
    "<td><em><span style=\"text-decoration: underline;\">whether</span> or not<br></em></td>\n",
    "<td align=\"right\">3</td>\n",
    "</tr>\n",
    "<tr>\n",
    "<td><span class=\"postag\">PRT </span></td>\n",
    "<td>particle</td>\n",
    "<td><span class=\"postag\">RP</span></td>\n",
    "<td><em><span style=\"text-decoration: underline;\">up</span> the stairs</em></td>\n",
    "<td align=\"right\">&nbsp;1</td>\n",
    "</tr>\n",
    "<tr>\n",
    "<td><span class=\"postag\">INTJ</span></td>\n",
    "<td>interjection</td>\n",
    "<td><span class=\"postag\">UH</span></td>\n",
    "<td><em>hello</em><em><br></em></td>\n",
    "<td align=\"right\">&nbsp;0</td>\n",
    "</tr>\n",
    "</tbody>\n",
    "</table>"
   ]
  },
  {
   "cell_type": "markdown",
   "metadata": {},
   "source": [
    "## 2. seach for patterns"
   ]
  },
  {
   "cell_type": "code",
   "execution_count": 13,
   "metadata": {
    "collapsed": false
   },
   "outputs": [
    {
     "name": "stdout",
     "output_type": "stream",
     "text": [
      "\n",
      "The sound in the place is terrible.\n",
      "Tagged Sent: [Sentence('The/DT/B-NP/O sound/NN/I-NP/O in/IN/B-PP/B-PNP the/DT/B-NP/I-PNP place/NN/I-NP/I-PNP is/VBZ/B-VP/O terrible/JJ/B-ADJP/O ././O/O')]\n",
      "Verbs: [Match(words=[Word(u'is/VBZ')])]\n",
      "ADJP: [Match(words=[Word(u'terrible/JJ')])]\n",
      "Nouns: [Match(words=[Word(u'sound/NN')]), Match(words=[Word(u'place/NN')])]\n",
      "\n",
      "dining with clatter and the occasional smell of BMW exausts\n",
      "Tagged Sent: [Sentence('dining/VBG/B-VP/O with/IN/B-PP/B-PNP clatter/NN/B-NP/I-PNP and/CC/I-NP/I-PNP the/DT/I-NP/I-PNP occasional/JJ/I-NP/I-PNP smell/NN/I-NP/I-PNP of/IN/B-PP/B-PNP BMW/NNP-ORG/B-NP/I-PNP exausts/VBZ/B-VP/O')]\n",
      "Verbs: [Match(words=[Word(u'dining/VBG')]), Match(words=[Word(u'exausts/VBZ')])]\n",
      "ADJP: []\n",
      "Nouns: [Match(words=[Word(u'clatter/NN')]), Match(words=[Word(u'smell/NN')])]\n",
      "\n",
      "Also, the acoustics are not conducive to having any sort of conversation.\n",
      "Tagged Sent: [Sentence('Also/RB/B-ADVP/O ,/,/O/O the/DT/B-NP/O acoustics/NNS/I-NP/O are/VBP/B-VP/O not/RB/B-ADJP/O conducive/JJ/I-ADJP/O to/TO/B-VP/O having/VBG/I-VP/O any/DT/B-NP/O sort/NN/I-NP/O of/IN/B-PP/B-PNP conversation/NN/B-NP/I-PNP ././O/O')]\n",
      "Verbs: [Match(words=[Word(u'are/VBP')]), Match(words=[Word(u'having/VBG')])]\n",
      "ADJP: [Match(words=[Word(u'not/RB'), Word(u'conducive/JJ')])]\n",
      "Nouns: [Match(words=[Word(u'sort/NN')]), Match(words=[Word(u'conversation/NN')])]\n",
      "\n",
      "not to sound like a snob\n",
      "Tagged Sent: [Sentence('not/RB/B-VP/O to/TO/I-VP/O sound/VB/I-VP/O like/IN/B-PP/B-PNP a/DT/B-NP/I-PNP snob/NN/I-NP/I-PNP')]\n",
      "Verbs: [Match(words=[Word(u'sound/VB')])]\n",
      "ADJP: []\n",
      "Nouns: [Match(words=[Word(u'snob/NN')])]\n",
      "\n",
      "at your table and you can tune the sound to whichever game you're interested in\n",
      "Tagged Sent: [Sentence(\"at/IN/B-PP/B-PNP your/PRP$/B-NP/I-PNP table/NN/I-NP/I-PNP and/CC/I-NP/I-PNP you/PRP/I-NP/I-PNP can/MD/B-VP/O tune/VB/I-VP/O the/DT/O/O sound/JJ/B-ADJP/O to/TO/O/O whichever/WDT/B-NP/O game/NN/I-NP/O you/PRP/I-NP/O 're/VBP/B-VP/O interested/JJ/B-ADJP/O in/IN/B-PP/O\")]\n",
      "Verbs: [Match(words=[Word(u'tune/VB')]), Match(words=[Word(u\"'re/VBP\")])]\n",
      "ADJP: [Match(words=[Word(u'sound/JJ')]), Match(words=[Word(u'interested/JJ')])]\n",
      "Nouns: [Match(words=[Word(u'table/NN')]), Match(words=[Word(u'game/NN')])]\n",
      "\n",
      "oh god I sound old!\n",
      "Tagged Sent: [Sentence('oh/UH/O/O god/NN/B-NP/O I/PRP/I-NP/O sound/VBP/B-VP/O old/JJ/B-ADJP/O !/./O/O')]\n",
      "Verbs: [Match(words=[Word(u'sound/VBP')])]\n",
      "ADJP: [Match(words=[Word(u'old/JJ')])]\n",
      "Nouns: [Match(words=[Word(u'god/NN')])]\n"
     ]
    }
   ],
   "source": [
    "from pattern.en import parsetree\n",
    "from pattern.search import search\n",
    "\n",
    "for sent in sents:\n",
    "    t = parsetree(sent)\n",
    "    print \n",
    "    print sent\n",
    "    print \"Tagged Sent:\", t\n",
    "    print \"Verbs:\", search('VB*', t) # verbs\n",
    "    print \"ADJP:\", search('ADJP', t) # verbs   \n",
    "    print \"Nouns:\", search('NN', t) # all nouns"
   ]
  },
  {
   "cell_type": "markdown",
   "metadata": {},
   "source": [
    "## 3. create similar word list (stemming + synsets)"
   ]
  },
  {
   "cell_type": "code",
   "execution_count": 14,
   "metadata": {
    "collapsed": false
   },
   "outputs": [],
   "source": [
    "from nltk.corpus import wordnet as wn\n",
    "from pattern.en import parsetree\n",
    "from pattern.search import taxonomy, WordNetClassifier, search\n",
    "\n",
    "taxonomy.classifiers.append(WordNetClassifier())\n",
    "\n",
    "def get_parts(word, pos, recursive=False):\n",
    "    parts = [word, ]\n",
    "    parts += taxonomy.children(word, pos=pos, recursive=recursive)\n",
    "    parts += taxonomy.parents(word, pos=pos, recursive=recursive)\n",
    "    return parts\n",
    "\n",
    "def word_search(t, word, pos):\n",
    "    parts = get_parts(word, pos)\n",
    "    results = search(pos, t)\n",
    "    for result in results:\n",
    "        #  print result.string, parts\n",
    "        if any(x in result.string.split() for x in parts):\n",
    "            return True\n",
    "    return False\n",
    "\n",
    "def run_a_rule(sent, word, pos):\n",
    "    t = parsetree(sent)\n",
    "    return word_search(t, word, pos)\n"
   ]
  },
  {
   "cell_type": "markdown",
   "metadata": {},
   "source": [
    "## 3. test"
   ]
  },
  {
   "cell_type": "code",
   "execution_count": 15,
   "metadata": {
    "collapsed": false
   },
   "outputs": [
    {
     "name": "stdout",
     "output_type": "stream",
     "text": [
      "1. 'sound' is a NN\n",
      "True\n",
      "2. clatter is a NN\n",
      "True\n",
      "3. acoustics is NNS and RB Not\n",
      "True\n",
      "4. sound is a VB\n",
      "True\n",
      "5. Sounds is JJ\n",
      "True\n",
      "6. sound is VBP\n",
      "True\n"
     ]
    }
   ],
   "source": [
    "print \"1. 'sound' is a NN\"\n",
    "print run_a_rule(sents[0], 'noise', 'NN')\n",
    "\n",
    "print \"2. clatter is a NN\"\n",
    "print run_a_rule(sents[1], 'noise', 'NN')\n",
    "\n",
    "print \"3. acoustics is NNS and RB Not\"\n",
    "print run_a_rule(sents[2], 'acoustics', 'NNS') and run_a_rule(sents[2], 'not', 'RB')\n",
    "\n",
    "print \"4. sound is a VB\"\n",
    "print run_a_rule(sents[3], 'noise', 'VB*') \n",
    "\n",
    "print \"5. Sounds is JJ\"\n",
    "print run_a_rule(sents[4], 'sound', 'JJ') \n",
    "\n",
    "print \"6. sound is VBP\"\n",
    "print run_a_rule(sents[5], 'noise', 'VB*')"
   ]
  },
  {
   "cell_type": "markdown",
   "metadata": {},
   "source": [
    "## 4. create a feature extractor function"
   ]
  },
  {
   "cell_type": "code",
   "execution_count": 16,
   "metadata": {
    "collapsed": false
   },
   "outputs": [
    {
     "name": "stdout",
     "output_type": "stream",
     "text": [
      "bad noises in review:\n",
      "\tThe sound in the place is terrible.\n",
      "\tdining with clatter and the occasional smell of BMW exausts\n",
      "\tAlso, the acoustics are not conducive to having any sort of conversation.\n",
      "\n",
      "no mention of bad noises:\n",
      "\tnot to sound like a snob\n",
      "\tat your table and you can tune the sound to whichever game you're interested in\n",
      "\toh god I sound old!\n"
     ]
    }
   ],
   "source": [
    "def ext_func(tgt):\n",
    "    return bool(not (run_a_rule(tgt, 'noise', 'VB*') and not run_a_rule(tgt, 'sound', 'JJ'))\n",
    "                and (run_a_rule(tgt, 'noise', 'NN') or run_a_rule(tgt, 'acoustics', 'NNS') or\n",
    "                        (run_a_rule(tgt, 'acoustics', 'NNS') and run_a_rule(tgt, 'not', 'RB'))))\n",
    "        \n",
    "print \"bad noises in review:\"\n",
    "for sent in bad_sounds:\n",
    "    print \"\\t\" + sent\n",
    "    assert(ext_func(sent) == True)\n",
    "print\n",
    "print \"no mention of bad noises:\"\n",
    "for sent in not_bad_sounds:\n",
    "    print \"\\t\" + sent\n",
    "    assert(ext_func(sent) == False)\n"
   ]
  },
  {
   "cell_type": "markdown",
   "metadata": {},
   "source": [
    "# Machine Learning Example "
   ]
  },
  {
   "cell_type": "code",
   "execution_count": 72,
   "metadata": {
    "collapsed": false
   },
   "outputs": [],
   "source": [
    "import zipfile\n",
    "import pickle\n",
    "from lxml import etree\n",
    "from StringIO import StringIO\n",
    "\n",
    "zf = zipfile.ZipFile('nhtsa_as_xml.zip', 'r')\n",
    "nhtsa_injured = zf.read('nhtsa_injured.xml')\n",
    "nhtsa_not_injured = zf.read('nhtsa_not_injured.xml')\n",
    "xml_injured = etree.parse(StringIO(nhtsa_injured))\n",
    "xml_not_injured = etree.parse(StringIO(nhtsa_not_injured))\n",
    "\n",
    "\n",
    "def injured(l):\n",
    "    return ['0' != str(x) and 'injured' or 'notinjured' for x in l]\n",
    "\n",
    "\n",
    "def data(X):\n",
    "    out = [x.xpath(\"//rows/row/@c1\"),\n",
    "           injured(x.xpath(\"//rows/row/@c8\")),\n",
    "           x.xpath(\"//rows/row/@c2\")]\n",
    "    return list(reversed(zip(*out)))\n",
    "\n",
    "\n",
    "xml_injured_data = data(xml_injured)\n",
    "xml_not_injured_data = data(xml_not_injured)"
   ]
  },
  {
   "cell_type": "code",
   "execution_count": 71,
   "metadata": {
    "collapsed": false
   },
   "outputs": [
    {
     "name": "stdout",
     "output_type": "stream",
     "text": [
      "train on 1500 instances, test on 500 instances\n",
      "({u'all': True, u'concept': True, u'skip': True, u'go': True, u'seemed': True, u'suits': True, u'presents': True, u'to': True, u'sitting': True, u'very': True, u'horror': True, u'continues': True, u'every': True, u'exact': True, u'cool': True, u'entire': True, u'did': True, u'dig': True, u'flick': True, u'neighborhood': True, u'crow': True, u'street': True, u'video': True, u'further': True, u'even': True, u'what': True, u'hide': True, u'giving': True, u'new': True, u'ever': True, u'here': True, u'understanding': True, u'entertain': True, u'studio': True, u'others': True, u'kudos': True, u'weird': True, u'makes': True, u'explained': True, u'rarely': True, u'plot': True, u'fed': True, u'disappearances': True, u'from': True, u'would': True, u'&': True, u'two': True, u'music': True, u'films': True, u'themselves': True, u'until': True, u'more': True, u'teen': True, u'clue': True, u'stick': True, u'given': True, u'me': True, u'this': True, u'package': True, u'movies': True, u'making': True, u'my': True, u'give': True, u'fuck': True, u'want': True, u'sense': True, u'!': True, u'holds': True, u'write': True, u'how': True, u'hot': True, u'stir': True, u'okay': True, u'beauty': True, u'mess': True, u'overall': True, u'after': True, u'coming': True, u'such': True, u'guys': True, u'types': True, u'a': True, u'downshifts': True, u'chasing': True, u'redundant': True, u'so': True, u'enter': True, u'playing': True, u'executed': True, u'over': True, u'insight': True, u'years': True, u'still': True, u'its': True, u'before': True, u'thrilling': True, u'somewhere': True, u',': True, u'actually': True, u'meantime': True, u'production': True, u'main': True, u'might': True, u'then': True, u'good': True, u'break': True, u'they': True, u'half': True, u'not': True, u'now': True, u'always': True, u'didn': True, u'arrow': True, u'mean': True, u'bentley': True, u'generation': True, u'idea': True, u'engaging': True, u'happen': True, u'out': True, u\"'\": True, u'since': True, u'7': True, u'got': True, u'highway': True, u'shows': True, u'blair': True, u'turning': True, u'little': True, u'completely': True, u'shelves': True, u'starts': True, u'terribly': True, u'american': True, u'jumbled': True, u'chopped': True, u'one': True, u'fantasy': True, u'visions': True, u'guess': True, u'\"': True, u'2': True, u'too': True, u'wrapped': True, u'final': True, u'slasher': True, u'that': True, u'explanation': True, u'took': True, u'part': True, u'attempt': True, u'10': True, u'kind': True, u'scenes': True, u'feeling': True, u'and': True, u'mind': True, u'sad': True, u'have': True, u'need': True, u'seem': True, u'apparently': True, u'-': True, u'also': True, u'which': True, u'sure': True, u'normal': True, u'who': True, u'most': True, u'don': True, u'drive': True, u'ways': True, u'entertaining': True, u'review': True, u'came': True, u'ending': True, u'find': True, u'touches': True, u'craziness': True, u'(': True, u'should': True, u'only': True, u'going': True, u'pretty': True, u'joblo': True, u'folks': True, u'8': True, u'do': True, u'his': True, u'get': True, u'watch': True, u'feels': True, u'despite': True, u'him': True, u'bad': True, u'where': True, u'lazy': True, u'see': True, u'decided': True, u'are': True, u'sorta': True, u'movie': True, u'nightmare': True, u'3': True, u'unravel': True, u'melissa': True, u'correctly': True, u'flicks': True, u'we': True, u'packaged': True, u'nightmares': True, u'genre': True, u'20': True, u'memento': True, u'both': True, u'accident': True, u's': True, u'witch': True, u'point': True, u'character': True, u'whatever': True, u'tons': True, u'simply': True, u'church': True, u'throughout': True, u'decent': True, u'been': True, u'.': True, u'secret': True, u'life': True, u'kids': True, u'personally': True, u'look': True, u'these': True, u'plain': True, u'harder': True, u'apparitions': True, u'while': True, u'neat': True, u've': True, u'is': True, u'it': True, u'couples': True, u'someone': True, u'in': True, u'chase': True, u'different': True, u')': True, u'things': True, u'make': True, u'same': True, u'member': True, u'strange': True, u'9': True, u'party': True, u'applaud': True, u'drink': True, u'director': True, u'running': True, u'characters': True, u'off': True, u'i': True, u'salvation': True, u'well': True, u'obviously': True, u'edge': True, u'echoes': True, u'the': True, u'away': True, u'just': True, u'generally': True, u'elm': True, u'excites': True, u'seems': True, u'snag': True, u'wes': True, u'4': True, u'has': True, u'big': True, u'showing': True, u'five': True, u'know': True, u'world': True, u'bit': True, u'password': True, u'dreams': True, u'like': True, u'lost': True, u'audience': True, u't': True, u'looooot': True, u'because': True, u'deal': True, u'people': True, u'back': True, u'dead': True, u'unraveling': True, u'critique': True, u'confusing': True, u'for': True, u'bottom': True, u'/': True, u'does': True, u'assuming': True, u'?': True, u'be': True, u'although': True, u'by': True, u'on': True, u'about': True, u'oh': True, u'of': True, u'runtime': True, u'or': True, u'own': True, u'strangeness': True, u'into': True, u'down': True, u'your': True, u'her': True, u'there': True, u'start': True, u'way': True, u'biggest': True, u':': True, u'head': True, u'offering': True, u'but': True, u'taken': True, u'line': True, u'trying': True, u'with': True, u'he': True, u'up': True, u'us': True, u'problem': True, u'minutes': True, u'figured': True, u'doesn': True, u'an': True, u'as': True, u'girlfriend': True, u'mold': True, u'sagemiller': True, u'film': True, u'again': True, u'no': True, u'when': True, u'actors': True, u'you': True, u'really': True, u'dies': True, u'problems': True, u'ago': True}, 'neg')\n",
      "accuracy: 0.728\n",
      "Most Informative Features\n",
      "             magnificent = True              pos : neg    =     15.0 : 1.0\n",
      "             outstanding = True              pos : neg    =     13.6 : 1.0\n",
      "               insulting = True              neg : pos    =     13.0 : 1.0\n",
      "              vulnerable = True              pos : neg    =     12.3 : 1.0\n",
      "               ludicrous = True              neg : pos    =     11.8 : 1.0\n",
      "                  avoids = True              pos : neg    =     11.7 : 1.0\n",
      "             uninvolving = True              neg : pos    =     11.7 : 1.0\n",
      "              astounding = True              pos : neg    =     10.3 : 1.0\n",
      "             fascination = True              pos : neg    =     10.3 : 1.0\n",
      "                 idiotic = True              neg : pos    =      9.8 : 1.0\n"
     ]
    }
   ],
   "source": [
    "import nltk.classify.util\n",
    "from nltk.classify import NaiveBayesClassifier\n",
    "\n",
    "\n",
    "\n",
    "# features are a tuple of dictionaries with values true, keys feature name\n",
    "classifier = NaiveBayesClassifier.train(trainfeats)\n",
    "print 'accuracy:', nltk.classify.util.accuracy(classifier, testfeats)\n",
    "classifier.show_most_informative_features()\n"
   ]
  },
  {
   "cell_type": "markdown",
   "metadata": {},
   "source": [
    "# POSH Syntax Overview "
   ]
  },
  {
   "cell_type": "markdown",
   "metadata": {},
   "source": [
    "converts:\n",
    "\n",
    "   return bool(not (run_a_rule(tgt, 'noise', 'VB*') and not run_a_rule(tgt, 'sound', 'JJ'))\n",
    "                and (run_a_rule(tgt, 'noise', 'NN') or run_a_rule(tgt, 'acoustics', 'NNS') or\n",
    "                        (run_a_rule(tgt, 'acoustics', 'NNS') and run_a_rule(tgt, 'not', 'RB'))))\n",
    "\n",
    "To:\n",
    "\n",
    "    \n"
   ]
  },
  {
   "cell_type": "markdown",
   "metadata": {},
   "source": [
    "# POSH Library "
   ]
  },
  {
   "cell_type": "markdown",
   "metadata": {},
   "source": [
    "<img src=\"files/me.png\">\n",
    "### About Me\n",
    "\n",
    "\n",
    "* Deloitte Enterprise Science brray (at) deloitte  dot com\n",
    "* ChiPy (Chicago Python User Group) brianhray@gmail.com\n",
    "* LinkedIn: https://www.linkedin.com/in/brianray\n",
    "* Twitter: <a href=\"https://twitter.com/brianray\" class=\"twitter-follow-button\" data-show-count=\"false\" data-size=\"large\">Follow @brianray</a>\n",
    "<script>!function(d,s,id){var js,fjs=d.getElementsByTagName(s)[0],p=/^http:/.test(d.location)?'http':'https';if(!d.getElementById(id)){js=d.createElement(s);js.id=id;js.src=p+'://platform.twitter.com/widgets.js';fjs.parentNode.insertBefore(js,fjs);}}(document, 'script', 'twitter-wjs');</script>"
   ]
  },
  {
   "cell_type": "code",
   "execution_count": null,
   "metadata": {
    "collapsed": true
   },
   "outputs": [],
   "source": []
  }
 ],
 "metadata": {
  "kernelspec": {
   "display_name": "Python 2",
   "language": "python",
   "name": "python2"
  },
  "language_info": {
   "codemirror_mode": {
    "name": "ipython",
    "version": 2
   },
   "file_extension": ".py",
   "mimetype": "text/x-python",
   "name": "python",
   "nbconvert_exporter": "python",
   "pygments_lexer": "ipython2",
   "version": "2.7.6"
  }
 },
 "nbformat": 4,
 "nbformat_minor": 0
}
