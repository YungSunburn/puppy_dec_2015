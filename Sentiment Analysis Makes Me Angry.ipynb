{
 "cells": [
  {
   "cell_type": "code",
   "execution_count": 1,
   "metadata": {
    "collapsed": true
   },
   "outputs": [],
   "source": [
    "sent = '''Sad, when I arrived at the Geeks day conference, I was unfortunately \n",
    "very lost at first. The building is huge and nobody helped me. Why don’t \n",
    "they put up more stupid signs?\n",
    "\n",
    "Luckily, I found a wonderful staff member to help me find my way.\n",
    "\n",
    "Once I found the conference the coffee was great. I really enjoyed the\n",
    "big screen. The big windows showing the lake was quite fun.'''\n"
   ]
  },
  {
   "cell_type": "code",
   "execution_count": 2,
   "metadata": {
    "collapsed": true
   },
   "outputs": [],
   "source": [
    "from googleapiclient import discovery\n",
    "import httplib2\n",
    "from oauth2client.client import GoogleCredentials\n",
    "import os\n",
    "\n",
    "os.environ['GOOGLE_APPLICATION_CREDENTIALS']  =  os.path.expanduser(\"~/my_key_from_google.json\")\n",
    "\n",
    "DISCOVERY_URL = ('https://{api}.googleapis.com/'\n",
    "                '$discovery/rest?version={apiVersion}')\n",
    "\n",
    "http = httplib2.Http()\n",
    "\n",
    "credentials = GoogleCredentials.get_application_default().create_scoped(\n",
    " ['https://www.googleapis.com/auth/cloud-platform'])\n",
    "\n",
    "http=httplib2.Http()\n",
    "credentials.authorize(http)\n",
    "\n",
    "service = discovery.build('language', 'v1beta2', # need 2 for analyzeEntitySentiment\n",
    "                       http=http, discoveryServiceUrl=DISCOVERY_URL)\n",
    "documents = service.documents() "
   ]
  },
  {
   "cell_type": "code",
   "execution_count": 3,
   "metadata": {},
   "outputs": [
    {
     "name": "stdout",
     "output_type": "stream",
     "text": [
      "Sad -> ADV -> MOOD_UNKNOWN \n",
      ", -> PUNCT -> MOOD_UNKNOWN \n",
      "when -> ADV -> MOOD_UNKNOWN \n",
      "I -> PRON -> MOOD_UNKNOWN \n",
      "arrived -> VERB -> INDICATIVE \n",
      "at -> ADP -> MOOD_UNKNOWN \n",
      "the -> DET -> MOOD_UNKNOWN \n",
      "Geeks -> NOUN -> MOOD_UNKNOWN \n",
      "day -> NOUN -> MOOD_UNKNOWN \n",
      "conference -> NOUN -> MOOD_UNKNOWN \n",
      ", -> PUNCT -> MOOD_UNKNOWN \n",
      "I -> PRON -> MOOD_UNKNOWN \n",
      "was -> VERB -> INDICATIVE \n",
      "unfortunately -> ADV -> MOOD_UNKNOWN \n",
      "very -> ADV -> MOOD_UNKNOWN \n",
      "lost -> VERB -> MOOD_UNKNOWN \n",
      "at -> ADP -> MOOD_UNKNOWN \n",
      "first -> ADV -> MOOD_UNKNOWN \n",
      ". -> PUNCT -> MOOD_UNKNOWN \n",
      "The -> DET -> MOOD_UNKNOWN \n",
      "building -> NOUN -> MOOD_UNKNOWN \n",
      "is -> VERB -> INDICATIVE \n",
      "huge -> ADJ -> MOOD_UNKNOWN \n",
      "and -> CONJ -> MOOD_UNKNOWN \n",
      "nobody -> NOUN -> MOOD_UNKNOWN \n",
      "helped -> VERB -> INDICATIVE \n",
      "me -> PRON -> MOOD_UNKNOWN \n",
      ". -> PUNCT -> MOOD_UNKNOWN \n",
      "Why -> ADV -> MOOD_UNKNOWN \n",
      "do -> VERB -> INDICATIVE \n",
      "n’t -> ADV -> MOOD_UNKNOWN \n",
      "they -> PRON -> MOOD_UNKNOWN \n",
      "put -> VERB -> INDICATIVE \n",
      "up -> PRT -> MOOD_UNKNOWN \n",
      "more -> ADV -> MOOD_UNKNOWN \n",
      "stupid -> ADJ -> MOOD_UNKNOWN \n",
      "signs -> NOUN -> MOOD_UNKNOWN \n",
      "? -> PUNCT -> MOOD_UNKNOWN \n",
      "Luckily -> ADV -> MOOD_UNKNOWN \n",
      ", -> PUNCT -> MOOD_UNKNOWN \n",
      "I -> PRON -> MOOD_UNKNOWN \n",
      "found -> VERB -> INDICATIVE \n",
      "a -> DET -> MOOD_UNKNOWN \n",
      "wonderful -> ADJ -> MOOD_UNKNOWN \n",
      "staff -> NOUN -> MOOD_UNKNOWN \n",
      "member -> NOUN -> MOOD_UNKNOWN \n",
      "to -> PRT -> MOOD_UNKNOWN \n",
      "help -> VERB -> MOOD_UNKNOWN \n",
      "me -> PRON -> MOOD_UNKNOWN \n",
      "find -> VERB -> MOOD_UNKNOWN \n",
      "my -> PRON -> MOOD_UNKNOWN \n",
      "way -> NOUN -> MOOD_UNKNOWN \n",
      ". -> PUNCT -> MOOD_UNKNOWN \n",
      "Once -> ADP -> MOOD_UNKNOWN \n",
      "I -> PRON -> MOOD_UNKNOWN \n",
      "found -> VERB -> INDICATIVE \n",
      "the -> DET -> MOOD_UNKNOWN \n",
      "conference -> NOUN -> MOOD_UNKNOWN \n",
      "the -> DET -> MOOD_UNKNOWN \n",
      "coffee -> NOUN -> MOOD_UNKNOWN \n",
      "was -> VERB -> INDICATIVE \n",
      "great -> ADJ -> MOOD_UNKNOWN \n",
      ". -> PUNCT -> MOOD_UNKNOWN \n",
      "I -> PRON -> MOOD_UNKNOWN \n",
      "really -> ADV -> MOOD_UNKNOWN \n",
      "enjoyed -> VERB -> INDICATIVE \n",
      "the -> DET -> MOOD_UNKNOWN \n",
      "big -> ADJ -> MOOD_UNKNOWN \n",
      "screen -> NOUN -> MOOD_UNKNOWN \n",
      ". -> PUNCT -> MOOD_UNKNOWN \n",
      "The -> DET -> MOOD_UNKNOWN \n",
      "big -> ADJ -> MOOD_UNKNOWN \n",
      "windows -> NOUN -> MOOD_UNKNOWN \n",
      "showing -> VERB -> MOOD_UNKNOWN \n",
      "the -> DET -> MOOD_UNKNOWN \n",
      "lake -> NOUN -> MOOD_UNKNOWN \n",
      "was -> VERB -> INDICATIVE \n",
      "quite -> ADV -> MOOD_UNKNOWN \n",
      "fun -> ADJ -> MOOD_UNKNOWN \n",
      ". -> PUNCT -> MOOD_UNKNOWN \n"
     ]
    }
   ],
   "source": [
    "service_request = documents.analyzeSyntax(\n",
    "body={\n",
    " 'document': {\n",
    "    'type': 'PLAIN_TEXT',\n",
    "    'content': sent\n",
    " }\n",
    "})\n",
    "\n",
    "response = service_request.execute()\n",
    "\n",
    "for token in response['tokens']:\n",
    "    print(\"{} -> {} -> {} \".format(token['text']['content'],\n",
    "                                  token['partOfSpeech']['tag'],\n",
    "                                  token['partOfSpeech']['mood']))  #,\n",
    "                                  #token['partOfSpeech']['voice']))"
   ]
  },
  {
   "cell_type": "code",
   "execution_count": 4,
   "metadata": {},
   "outputs": [
    {
     "name": "stdout",
     "output_type": "stream",
     "text": [
      "*Overall sentiment: {'magnitude': 4.8, 'score': 0.2}\n",
      "Sad, when I arrived at the Geeks day conference, I was unfortunately \n",
      "very lost at first. -> {'magnitude': 0.3, 'score': -0.3}\n",
      "The building is huge and nobody helped me. -> {'magnitude': 0.6, 'score': -0.6}\n",
      "Why don’t \n",
      "they put up more stupid signs? -> {'magnitude': 0.7, 'score': -0.7}\n",
      "Luckily, I found a wonderful staff member to help me find my way. -> {'magnitude': 0.9, 'score': 0.9}\n",
      "Once I found the conference the coffee was great. -> {'magnitude': 0.9, 'score': 0.9}\n",
      "I really enjoyed the\n",
      "big screen. -> {'magnitude': 0.5, 'score': 0.5}\n",
      "The big windows showing the lake was quite fun. -> {'magnitude': 0.8, 'score': 0.8}\n"
     ]
    }
   ],
   "source": [
    "service_request = documents.analyzeSentiment(\n",
    "body={\n",
    " 'document': {\n",
    "    'type': 'PLAIN_TEXT',\n",
    "    'content': sent\n",
    " }\n",
    "})\n",
    "result = service_request.execute()\n",
    "print(\"*Overall sentiment: {}\".format(result['documentSentiment']))\n",
    "for sentence in result['sentences']:\n",
    "    print(\"{} -> {}\".format(sentence['text']['content'], sentence['sentiment']))\n"
   ]
  },
  {
   "cell_type": "markdown",
   "metadata": {},
   "source": [
    "https://cloud.google.com/natural-language/docs/reference/rest/v1beta2/documents/analyzeEntitySentiment"
   ]
  },
  {
   "cell_type": "code",
   "execution_count": 5,
   "metadata": {},
   "outputs": [
    {
     "name": "stdout",
     "output_type": "stream",
     "text": [
      "EVENT: 'conference' {'magnitude': 0, 'score': 0}\n",
      "ORGANIZATION: 'Geeks' {'magnitude': 0, 'score': 0}\n",
      "LOCATION: 'building' {'magnitude': 0, 'score': 0}\n",
      "PERSON: 'nobody' {'magnitude': 0, 'score': 0}\n",
      "OTHER: 'signs' {'magnitude': 0.9, 'score': -0.9}\n",
      "PERSON: 'staff member' {'magnitude': 0.9, 'score': 0.9}\n",
      "OTHER: 'screen' {'magnitude': 0.8, 'score': 0.8}\n",
      "OTHER: 'windows' {'magnitude': 0.2, 'score': 0.2}\n",
      "OTHER: 'way' {'magnitude': 0, 'score': 0}\n",
      "OTHER: 'coffee' {'magnitude': 0.8, 'score': 0.8}\n",
      "LOCATION: 'lake' {'magnitude': 0.8, 'score': 0.8}\n",
      "EVENT: 'conference' {'magnitude': 0, 'score': 0}\n"
     ]
    }
   ],
   "source": [
    "service_request = documents.analyzeEntitySentiment(\n",
    "body={\n",
    " 'document': {\n",
    "    'type': 'PLAIN_TEXT',\n",
    "    'content': sent\n",
    " }\n",
    "})\n",
    "for entry in service_request.execute()['entities']:\n",
    "    print(\"{}: '{}' {}\".format(entry['type'], entry['name'], entry['sentiment']))"
   ]
  },
  {
   "cell_type": "markdown",
   "metadata": {},
   "source": [
    "<img src=\"files/me.png\">\n",
    "### About Me\n",
    "\n",
    "\n",
    "* Deloitte Enterprise Science brray (at) deloitte  dot com\n",
    "* ChiPy (Chicago Python User Group) brianhray@gmail.com\n",
    "* LinkedIn: https://www.linkedin.com/in/brianray\n",
    "* Twitter: <a href=\"https://twitter.com/brianray\" class=\"twitter-follow-button\" data-show-count=\"false\" data-size=\"large\">Follow @brianray</a>\n",
    "<script>!function(d,s,id){var js,fjs=d.getElementsByTagName(s)[0],p=/^http:/.test(d.location)?'http':'https';if(!d.getElementById(id)){js=d.createElement(s);js.id=id;js.src=p+'://platform.twitter.com/widgets.js';fjs.parentNode.insertBefore(js,fjs);}}(document, 'script', 'twitter-wjs');</script>"
   ]
  },
  {
   "cell_type": "code",
   "execution_count": null,
   "metadata": {
    "collapsed": true
   },
   "outputs": [],
   "source": []
  }
 ],
 "metadata": {
  "kernelspec": {
   "display_name": "Python [conda env:py3k]",
   "language": "python",
   "name": "conda-env-py3k-py"
  },
  "language_info": {
   "codemirror_mode": {
    "name": "ipython",
    "version": 3
   },
   "file_extension": ".py",
   "mimetype": "text/x-python",
   "name": "python",
   "nbconvert_exporter": "python",
   "pygments_lexer": "ipython3",
   "version": "3.5.3"
  }
 },
 "nbformat": 4,
 "nbformat_minor": 2
}
